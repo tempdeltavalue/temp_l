{
 "cells": [
  {
   "cell_type": "markdown",
   "id": "5d28930a-8b8b-44e6-8097-c99375bf37c9",
   "metadata": {},
   "source": [
    "# Fine tuning"
   ]
  },
  {
   "cell_type": "markdown",
   "id": "6340211a-db64-458f-b3fb-4b87f09ab743",
   "metadata": {},
   "source": [
    "### Load pretrained model"
   ]
  },
  {
   "cell_type": "code",
   "execution_count": 10,
   "id": "bd53aa4c-b83b-41a3-9b73-498aca71e2e9",
   "metadata": {},
   "outputs": [],
   "source": [
    "import os \n",
    "from sentence_transformers import SentenceTransformer\n",
    "import json\n",
    "\n",
    "from torch.utils.data import DataLoader\n",
    "from sentence_transformers import InputExample\n"
   ]
  },
  {
   "cell_type": "code",
   "execution_count": 11,
   "id": "70df8f69-9d40-4467-9755-5582b4ca5178",
   "metadata": {
    "tags": []
   },
   "outputs": [],
   "source": [
    "model_id = \"BAAI/bge-small-en\"\n",
    "model = SentenceTransformer(model_id)"
   ]
  },
  {
   "cell_type": "code",
   "execution_count": 12,
   "id": "3502aaba-3e8a-42a6-9665-9d59304e798b",
   "metadata": {
    "tags": []
   },
   "outputs": [
    {
     "data": {
      "text/plain": [
       "SentenceTransformer(\n",
       "  (0): Transformer({'max_seq_length': 512, 'do_lower_case': True}) with Transformer model: BertModel \n",
       "  (1): Pooling({'word_embedding_dimension': 384, 'pooling_mode_cls_token': True, 'pooling_mode_mean_tokens': False, 'pooling_mode_max_tokens': False, 'pooling_mode_mean_sqrt_len_tokens': False})\n",
       "  (2): Normalize()\n",
       ")"
      ]
     },
     "execution_count": 12,
     "metadata": {},
     "output_type": "execute_result"
    }
   ],
   "source": [
    "model"
   ]
  },
  {
   "cell_type": "markdown",
   "id": "97fd0ab4-6687-4b54-aff7-b30aa96f3698",
   "metadata": {},
   "source": [
    "### Define dataloader"
   ]
  },
  {
   "cell_type": "code",
   "execution_count": 4,
   "id": "9ad17db1-e4b6-4c54-9242-905fb9cd9451",
   "metadata": {},
   "outputs": [],
   "source": []
  },
  {
   "cell_type": "code",
   "execution_count": 21,
   "id": "dfaf8851-5d25-45c0-876a-5dbccaff0a32",
   "metadata": {},
   "outputs": [],
   "source": [
    "math_example_path = os.getcwd() + '/data/What_Is_Mathematics_An_Elementary_Approach_to_Ideas_and_Methods.txt'\n",
    "\n",
    "with open(math_example_path, \"r\",  encoding=\"utf8\") as f:\n",
    "     math_example_text = f.read()\n",
    "\n",
    "math_sentences = math_example_text.split(\"\\n\")\n",
    "\n",
    "def generate_math_dataset(math_sentences):\n",
    "    examples = []\n",
    "    for sentence in math_sentences:\n",
    "        example = InputExample(texts=[sentence]) # temp\n",
    "        examples.append(example)\n",
    "\n",
    "    return examples\n",
    "\n",
    "math_data = generate_math_dataset(math_sentences)[0:100]"
   ]
  },
  {
   "cell_type": "code",
   "execution_count": 14,
   "id": "e26aa72e-c158-4d6c-862f-bb555e5e456d",
   "metadata": {},
   "outputs": [],
   "source": [
    "\n",
    "# TRAIN_DATASET_FPATH = os.getcwd() + '/finetune_data/train_dataset.json'\n",
    "# VAL_DATASET_FPATH = os.getcwd() + '/finetune_data/val_dataset.json'\n",
    "\n",
    "# # We use a very small batchsize to run this toy example on a local machine. \n",
    "# # This should typically be much larger. \n",
    "# BATCH_SIZE = 10\n",
    "\n",
    "# with open(TRAIN_DATASET_FPATH, 'r+') as f:\n",
    "#     train_dataset = json.load(f)\n",
    "\n",
    "# with open(VAL_DATASET_FPATH, 'r+') as f:\n",
    "#     val_dataset = json.load(f)\n",
    "\n",
    "# dataset = val_dataset\n",
    "\n",
    "# from sentence_transformers.evaluation import InformationRetrievalEvaluator\n",
    "\n",
    "# corpus = dataset['corpus']\n",
    "# queries = dataset['queries']\n",
    "# relevant_docs = dataset['relevant_docs']\n",
    "# evaluator = InformationRetrievalEvaluator(queries, corpus, relevant_docs)"
   ]
  },
  {
   "cell_type": "code",
   "execution_count": 18,
   "id": "f07e006a-9a08-4961-b639-66a7a65bc603",
   "metadata": {},
   "outputs": [],
   "source": [
    "BATCH_SIZE = 10"
   ]
  },
  {
   "cell_type": "code",
   "execution_count": 19,
   "id": "b7b7f2f2-0012-4ec7-8f44-1909d42c84b7",
   "metadata": {},
   "outputs": [],
   "source": [
    "\n",
    "loader = DataLoader(\n",
    "    #generate_db_dataset(train_dataset), \n",
    "    math_data,\n",
    "    batch_size=BATCH_SIZE\n",
    ")"
   ]
  },
  {
   "cell_type": "markdown",
   "id": "ee8acef2-8618-4afa-84e0-cd959d181208",
   "metadata": {},
   "source": [
    "### Define loss"
   ]
  },
  {
   "cell_type": "code",
   "execution_count": 119,
   "id": "bd4e6b0f-8ffd-4f40-bbc8-bb307c32e26c",
   "metadata": {},
   "outputs": [],
   "source": [
    "# https://www.sbert.net/docs/package_reference/losses.html#multiplenegativesrankingloss\n",
    "from sentence_transformers import losses"
   ]
  },
  {
   "cell_type": "code",
   "execution_count": 120,
   "id": "928eec1f-0f47-4bac-9189-7b791e81024d",
   "metadata": {},
   "outputs": [],
   "source": [
    "loss = losses.MultipleNegativesRankingLoss(model)"
   ]
  },
  {
   "cell_type": "markdown",
   "id": "95044745-c271-40b3-a6d9-dd646ab281de",
   "metadata": {},
   "source": [
    "### Define evaluator "
   ]
  },
  {
   "cell_type": "markdown",
   "id": "de5deb95-6d9a-4da8-ba46-f0317b12d6df",
   "metadata": {},
   "source": [
    "### Run training "
   ]
  },
  {
   "cell_type": "code",
   "execution_count": 124,
   "id": "99ff9b09-c191-4ac0-a89e-629031e648d0",
   "metadata": {},
   "outputs": [],
   "source": [
    "EPOCHS = 10"
   ]
  },
  {
   "cell_type": "code",
   "execution_count": 125,
   "id": "f3b6afdf-87d6-40be-b6fd-36f89dbb3612",
   "metadata": {},
   "outputs": [
    {
     "name": "stderr",
     "output_type": "stream",
     "text": [
      "Epoch:   0%|                                                                                    | 0/10 [00:00<?, ?it/s]\n",
      "Iteration:   0%|                                                                                | 0/10 [00:00<?, ?it/s]\u001b[A\n",
      "Iteration:  10%|███████▏                                                                | 1/10 [00:00<00:07,  1.22it/s]\u001b[A\n",
      "Iteration:  20%|██████████████▍                                                         | 2/10 [00:01<00:06,  1.33it/s]\u001b[A\n",
      "Iteration:  30%|█████████████████████▌                                                  | 3/10 [00:02<00:05,  1.29it/s]\u001b[A\n",
      "Iteration:  40%|████████████████████████████▊                                           | 4/10 [00:02<00:04,  1.38it/s]\u001b[A\n",
      "Iteration:  50%|████████████████████████████████████                                    | 5/10 [00:03<00:03,  1.41it/s]\u001b[A\n",
      "Iteration:  60%|███████████████████████████████████████████▏                            | 6/10 [00:04<00:02,  1.35it/s]\u001b[A\n",
      "Iteration:  70%|██████████████████████████████████████████████████▍                     | 7/10 [00:05<00:02,  1.30it/s]\u001b[A\n",
      "Iteration:  80%|█████████████████████████████████████████████████████████▌              | 8/10 [00:06<00:01,  1.33it/s]\u001b[A\n",
      "Iteration:  90%|████████████████████████████████████████████████████████████████▊       | 9/10 [00:06<00:00,  1.35it/s]\u001b[A\n",
      "Iteration: 100%|███████████████████████████████████████████████████████████████████████| 10/10 [00:07<00:00,  1.36it/s]\u001b[A\n",
      "Epoch:  10%|███████▌                                                                    | 1/10 [00:07<01:06,  7.36s/it]\n",
      "Iteration:   0%|                                                                                | 0/10 [00:00<?, ?it/s]\u001b[A\n",
      "Iteration:  10%|███████▏                                                                | 1/10 [00:00<00:06,  1.47it/s]\u001b[A\n",
      "Iteration:  20%|██████████████▍                                                         | 2/10 [00:01<00:05,  1.45it/s]\u001b[A\n",
      "Iteration:  30%|█████████████████████▌                                                  | 3/10 [00:02<00:05,  1.37it/s]\u001b[A\n",
      "Iteration:  40%|████████████████████████████▊                                           | 4/10 [00:02<00:04,  1.43it/s]\u001b[A\n",
      "Iteration:  50%|████████████████████████████████████                                    | 5/10 [00:03<00:03,  1.43it/s]\u001b[A\n",
      "Iteration:  60%|███████████████████████████████████████████▏                            | 6/10 [00:04<00:02,  1.36it/s]\u001b[A\n",
      "Iteration:  70%|██████████████████████████████████████████████████▍                     | 7/10 [00:05<00:02,  1.30it/s]\u001b[A\n",
      "Iteration:  80%|█████████████████████████████████████████████████████████▌              | 8/10 [00:06<00:01,  1.32it/s]\u001b[A\n",
      "Iteration:  90%|████████████████████████████████████████████████████████████████▊       | 9/10 [00:06<00:00,  1.34it/s]\u001b[A\n",
      "Iteration: 100%|███████████████████████████████████████████████████████████████████████| 10/10 [00:07<00:00,  1.34it/s]\u001b[A\n",
      "Epoch:  20%|███████████████▏                                                            | 2/10 [00:14<00:59,  7.41s/it]\n",
      "Iteration:   0%|                                                                                | 0/10 [00:00<?, ?it/s]\u001b[A\n",
      "Iteration:  10%|███████▏                                                                | 1/10 [00:00<00:05,  1.54it/s]\u001b[A\n",
      "Iteration:  20%|██████████████▍                                                         | 2/10 [00:01<00:05,  1.53it/s]\u001b[A\n",
      "Iteration:  30%|█████████████████████▌                                                  | 3/10 [00:02<00:04,  1.44it/s]\u001b[A\n",
      "Iteration:  40%|████████████████████████████▊                                           | 4/10 [00:02<00:03,  1.52it/s]\u001b[A\n",
      "Iteration:  50%|████████████████████████████████████                                    | 5/10 [00:03<00:03,  1.51it/s]\u001b[A\n",
      "Iteration:  60%|███████████████████████████████████████████▏                            | 6/10 [00:04<00:02,  1.43it/s]\u001b[A\n",
      "Iteration:  70%|██████████████████████████████████████████████████▍                     | 7/10 [00:05<00:02,  1.37it/s]\u001b[A\n",
      "Iteration:  80%|█████████████████████████████████████████████████████████▌              | 8/10 [00:05<00:01,  1.38it/s]\u001b[A\n",
      "Iteration:  90%|████████████████████████████████████████████████████████████████▊       | 9/10 [00:06<00:00,  1.39it/s]\u001b[A\n",
      "Iteration: 100%|███████████████████████████████████████████████████████████████████████| 10/10 [00:07<00:00,  1.40it/s]\u001b[A\n",
      "Epoch:  30%|██████████████████████▊                                                     | 3/10 [00:21<00:51,  7.30s/it]\n",
      "Iteration:   0%|                                                                                | 0/10 [00:00<?, ?it/s]\u001b[A\n",
      "Iteration:  10%|███████▏                                                                | 1/10 [00:00<00:06,  1.50it/s]\u001b[A\n",
      "Iteration:  20%|██████████████▍                                                         | 2/10 [00:01<00:05,  1.51it/s]\u001b[A\n",
      "Iteration:  30%|█████████████████████▌                                                  | 3/10 [00:02<00:05,  1.40it/s]\u001b[A\n",
      "Iteration:  40%|████████████████████████████▊                                           | 4/10 [00:02<00:04,  1.48it/s]\u001b[A\n",
      "Iteration:  50%|████████████████████████████████████                                    | 5/10 [00:03<00:03,  1.49it/s]\u001b[A\n",
      "Iteration:  60%|███████████████████████████████████████████▏                            | 6/10 [00:04<00:02,  1.40it/s]\u001b[A\n",
      "Iteration:  70%|██████████████████████████████████████████████████▍                     | 7/10 [00:05<00:02,  1.33it/s]\u001b[A\n",
      "Iteration:  80%|█████████████████████████████████████████████████████████▌              | 8/10 [00:05<00:01,  1.36it/s]\u001b[A\n",
      "Iteration:  90%|████████████████████████████████████████████████████████████████▊       | 9/10 [00:06<00:00,  1.38it/s]\u001b[A\n",
      "Iteration: 100%|███████████████████████████████████████████████████████████████████████| 10/10 [00:07<00:00,  1.38it/s]\u001b[A\n",
      "Epoch:  40%|██████████████████████████████▍                                             | 4/10 [00:29<00:43,  7.27s/it]\n",
      "Iteration:   0%|                                                                                | 0/10 [00:00<?, ?it/s]\u001b[A\n",
      "Iteration:  10%|███████▏                                                                | 1/10 [00:00<00:06,  1.40it/s]\u001b[A\n",
      "Iteration:  20%|██████████████▍                                                         | 2/10 [00:01<00:05,  1.43it/s]\u001b[A\n",
      "Iteration:  30%|█████████████████████▌                                                  | 3/10 [00:02<00:05,  1.36it/s]\u001b[A\n",
      "Iteration:  40%|████████████████████████████▊                                           | 4/10 [00:02<00:04,  1.44it/s]\u001b[A\n",
      "Iteration:  50%|████████████████████████████████████                                    | 5/10 [00:03<00:03,  1.44it/s]\u001b[A\n",
      "Iteration:  60%|███████████████████████████████████████████▏                            | 6/10 [00:04<00:02,  1.39it/s]\u001b[A\n",
      "Iteration:  70%|██████████████████████████████████████████████████▍                     | 7/10 [00:05<00:02,  1.35it/s]\u001b[A\n",
      "Iteration:  80%|█████████████████████████████████████████████████████████▌              | 8/10 [00:05<00:01,  1.38it/s]\u001b[A\n",
      "Iteration:  90%|████████████████████████████████████████████████████████████████▊       | 9/10 [00:06<00:00,  1.39it/s]\u001b[A\n",
      "Iteration: 100%|███████████████████████████████████████████████████████████████████████| 10/10 [00:07<00:00,  1.40it/s]\u001b[A\n",
      "Epoch:  50%|██████████████████████████████████████                                      | 5/10 [00:36<00:36,  7.24s/it]\n",
      "Iteration:   0%|                                                                                | 0/10 [00:00<?, ?it/s]\u001b[A\n",
      "Iteration:  10%|███████▏                                                                | 1/10 [00:00<00:05,  1.53it/s]\u001b[A\n",
      "Iteration:  20%|██████████████▍                                                         | 2/10 [00:01<00:05,  1.50it/s]\u001b[A\n",
      "Iteration:  30%|█████████████████████▌                                                  | 3/10 [00:02<00:05,  1.38it/s]\u001b[A\n",
      "Iteration:  40%|████████████████████████████▊                                           | 4/10 [00:02<00:04,  1.45it/s]\u001b[A\n",
      "Iteration:  50%|████████████████████████████████████                                    | 5/10 [00:03<00:03,  1.48it/s]\u001b[A\n",
      "Iteration:  60%|███████████████████████████████████████████▏                            | 6/10 [00:04<00:02,  1.41it/s]\u001b[A\n",
      "Iteration:  70%|██████████████████████████████████████████████████▍                     | 7/10 [00:05<00:02,  1.36it/s]\u001b[A\n",
      "Iteration:  80%|█████████████████████████████████████████████████████████▌              | 8/10 [00:05<00:01,  1.40it/s]\u001b[A\n",
      "Iteration:  90%|████████████████████████████████████████████████████████████████▊       | 9/10 [00:06<00:00,  1.40it/s]\u001b[A\n",
      "Iteration: 100%|███████████████████████████████████████████████████████████████████████| 10/10 [00:07<00:00,  1.41it/s]\u001b[A\n",
      "Epoch:  60%|█████████████████████████████████████████████▌                              | 6/10 [00:43<00:28,  7.19s/it]\n",
      "Iteration:   0%|                                                                                | 0/10 [00:00<?, ?it/s]\u001b[A\n",
      "Iteration:  10%|███████▏                                                                | 1/10 [00:00<00:06,  1.48it/s]\u001b[A\n",
      "Iteration:  20%|██████████████▍                                                         | 2/10 [00:01<00:05,  1.48it/s]\u001b[A\n",
      "Iteration:  30%|█████████████████████▌                                                  | 3/10 [00:02<00:04,  1.42it/s]\u001b[A\n",
      "Iteration:  40%|████████████████████████████▊                                           | 4/10 [00:02<00:04,  1.50it/s]\u001b[A\n",
      "Iteration:  50%|████████████████████████████████████                                    | 5/10 [00:03<00:03,  1.49it/s]\u001b[A\n",
      "Iteration:  60%|███████████████████████████████████████████▏                            | 6/10 [00:04<00:02,  1.41it/s]\u001b[A\n",
      "Iteration:  70%|██████████████████████████████████████████████████▍                     | 7/10 [00:05<00:02,  1.37it/s]\u001b[A\n",
      "Iteration:  80%|█████████████████████████████████████████████████████████▌              | 8/10 [00:05<00:01,  1.39it/s]\u001b[A\n",
      "Iteration:  90%|████████████████████████████████████████████████████████████████▊       | 9/10 [00:06<00:00,  1.38it/s]\u001b[A\n",
      "Iteration: 100%|███████████████████████████████████████████████████████████████████████| 10/10 [00:07<00:00,  1.39it/s]\u001b[A\n",
      "Epoch:  70%|█████████████████████████████████████████████████████▏                      | 7/10 [00:50<00:21,  7.19s/it]\n",
      "Iteration:   0%|                                                                                | 0/10 [00:00<?, ?it/s]\u001b[A\n",
      "Iteration:  10%|███████▏                                                                | 1/10 [00:00<00:05,  1.58it/s]\u001b[A\n",
      "Iteration:  20%|██████████████▍                                                         | 2/10 [00:01<00:05,  1.51it/s]\u001b[A\n",
      "Iteration:  30%|█████████████████████▌                                                  | 3/10 [00:02<00:04,  1.41it/s]\u001b[A\n",
      "Iteration:  40%|████████████████████████████▊                                           | 4/10 [00:02<00:04,  1.45it/s]\u001b[A\n",
      "Iteration:  50%|████████████████████████████████████                                    | 5/10 [00:03<00:03,  1.47it/s]\u001b[A\n",
      "Iteration:  60%|███████████████████████████████████████████▏                            | 6/10 [00:04<00:02,  1.38it/s]\u001b[A\n",
      "Iteration:  70%|██████████████████████████████████████████████████▍                     | 7/10 [00:05<00:02,  1.32it/s]\u001b[A\n",
      "Iteration:  80%|█████████████████████████████████████████████████████████▌              | 8/10 [00:05<00:01,  1.35it/s]\u001b[A\n",
      "Iteration:  90%|████████████████████████████████████████████████████████████████▊       | 9/10 [00:06<00:00,  1.36it/s]\u001b[A\n",
      "Iteration: 100%|███████████████████████████████████████████████████████████████████████| 10/10 [00:07<00:00,  1.38it/s]\u001b[A\n",
      "Epoch:  80%|████████████████████████████████████████████████████████████▊               | 8/10 [00:57<00:14,  7.22s/it]\n",
      "Iteration:   0%|                                                                                | 0/10 [00:00<?, ?it/s]\u001b[A\n",
      "Iteration:  10%|███████▏                                                                | 1/10 [00:00<00:05,  1.58it/s]\u001b[A\n",
      "Iteration:  20%|██████████████▍                                                         | 2/10 [00:01<00:05,  1.53it/s]\u001b[A\n",
      "Iteration:  30%|█████████████████████▌                                                  | 3/10 [00:02<00:04,  1.41it/s]\u001b[A\n",
      "Iteration:  40%|████████████████████████████▊                                           | 4/10 [00:02<00:04,  1.45it/s]\u001b[A\n",
      "Iteration:  50%|████████████████████████████████████                                    | 5/10 [00:03<00:03,  1.43it/s]\u001b[A\n",
      "Iteration:  60%|███████████████████████████████████████████▏                            | 6/10 [00:04<00:02,  1.35it/s]\u001b[A\n",
      "Iteration:  70%|██████████████████████████████████████████████████▍                     | 7/10 [00:05<00:02,  1.30it/s]\u001b[A\n",
      "Iteration:  80%|█████████████████████████████████████████████████████████▌              | 8/10 [00:06<00:01,  1.32it/s]\u001b[A\n",
      "Iteration:  90%|████████████████████████████████████████████████████████████████▊       | 9/10 [00:06<00:00,  1.34it/s]\u001b[A\n",
      "Iteration: 100%|███████████████████████████████████████████████████████████████████████| 10/10 [00:07<00:00,  1.35it/s]\u001b[A\n",
      "Epoch:  90%|████████████████████████████████████████████████████████████████████▍       | 9/10 [01:05<00:07,  7.28s/it]\n",
      "Iteration:   0%|                                                                                | 0/10 [00:00<?, ?it/s]\u001b[A\n",
      "Iteration:  10%|███████▏                                                                | 1/10 [00:00<00:06,  1.49it/s]\u001b[A\n",
      "Iteration:  20%|██████████████▍                                                         | 2/10 [00:01<00:05,  1.51it/s]\u001b[A\n",
      "Iteration:  30%|█████████████████████▌                                                  | 3/10 [00:02<00:04,  1.44it/s]\u001b[A\n",
      "Iteration:  40%|████████████████████████████▊                                           | 4/10 [00:02<00:04,  1.47it/s]\u001b[A\n",
      "Iteration:  50%|████████████████████████████████████                                    | 5/10 [00:03<00:03,  1.46it/s]\u001b[A\n",
      "Iteration:  60%|███████████████████████████████████████████▏                            | 6/10 [00:04<00:02,  1.40it/s]\u001b[A\n",
      "Iteration:  70%|██████████████████████████████████████████████████▍                     | 7/10 [00:05<00:02,  1.33it/s]\u001b[A\n",
      "Iteration:  80%|█████████████████████████████████████████████████████████▌              | 8/10 [00:05<00:01,  1.35it/s]\u001b[A\n",
      "Iteration:  90%|████████████████████████████████████████████████████████████████▊       | 9/10 [00:06<00:00,  1.35it/s]\u001b[A\n",
      "Iteration: 100%|███████████████████████████████████████████████████████████████████████| 10/10 [00:07<00:00,  1.35it/s]\u001b[A\n",
      "Epoch: 100%|███████████████████████████████████████████████████████████████████████████| 10/10 [01:12<00:00,  7.27s/it]\n"
     ]
    }
   ],
   "source": [
    "import mlflow\n",
    "\n",
    "# Definition of of callbak should be after model init\n",
    "class MLFlowCallback:\n",
    "    def __init__(self, model):\n",
    "        self.model = model\n",
    "    \n",
    "    def __call__(self, score, epoch, steps) -> None:\n",
    "        print(self.model)\n",
    "        print(score, epoch, steps)\n",
    "        mlflow.log_metric('score', score)\n",
    "        # https://mlflow.org/docs/latest/tracking/artifacts-stores.html\n",
    "\n",
    "mlflow_callback = MLFlowCallback(model)\n",
    "           \n",
    "warmup_steps = int(len(loader) * EPOCHS * 0.1)\n",
    "\n",
    "with mlflow.start_run():\n",
    "    model.fit(\n",
    "        train_objectives=[(loader, loss)],\n",
    "        epochs=EPOCHS,\n",
    "        warmup_steps=warmup_steps,\n",
    "        output_path='exp_finetune',\n",
    "        show_progress_bar=True,\n",
    "        #evaluator=evaluator, \n",
    "        evaluation_steps=50,\n",
    "        callback=mlflow_callback \n",
    "    )"
   ]
  },
  {
   "cell_type": "code",
   "execution_count": 60,
   "id": "f6304d1f-aecf-42ff-9852-03f49bde8f2e",
   "metadata": {},
   "outputs": [],
   "source": [
    "### llamaindex"
   ]
  },
  {
   "cell_type": "code",
   "execution_count": 20,
   "id": "0851e2dc-6346-4a27-be11-a9874ec66493",
   "metadata": {},
   "outputs": [
    {
     "name": "stdout",
     "output_type": "stream",
     "text": [
      "model_name='C:\\\\Users\\\\tempdelta\\\\Desktop\\\\temp_l\\\\exp_finetune' embed_batch_size=10 callback_manager=<llama_index.callbacks.base.CallbackManager object at 0x0000026D001A91D0> tokenizer_name='C:\\\\Users\\\\tempdelta\\\\Desktop\\\\temp_l\\\\exp_finetune' max_length=512 pooling=<Pooling.CLS: 'cls'> normalize=True query_instruction=None text_instruction=None cache_folder=None\n"
     ]
    }
   ],
   "source": [
    "from llama_index import ServiceContext, VectorStoreIndex\n",
    "from llama_index.schema import TextNode\n",
    "from llama_index.embeddings import HuggingFaceEmbedding# OpenAIEmbedding\n",
    "import os\n",
    "\n",
    "MODEL_PATH = os.getcwd() + r'\\exp_finetune'\n",
    "embed_model = HuggingFaceEmbedding(MODEL_PATH)\n",
    "\n",
    "print(embed_model)"
   ]
  },
  {
   "cell_type": "code",
   "execution_count": 23,
   "id": "221944fc-538f-4e85-809b-3e7f3ff244a6",
   "metadata": {},
   "outputs": [
    {
     "name": "stdout",
     "output_type": "stream",
     "text": [
      "LLM is explicitly disabled. Using MockLLM.\n"
     ]
    },
    {
     "ename": "NameError",
     "evalue": "name 'corpus' is not defined",
     "output_type": "error",
     "traceback": [
      "\u001b[1;31m---------------------------------------------------------------------------\u001b[0m",
      "\u001b[1;31mNameError\u001b[0m                                 Traceback (most recent call last)",
      "Cell \u001b[1;32mIn[23], line 7\u001b[0m\n\u001b[0;32m      3\u001b[0m service_context \u001b[38;5;241m=\u001b[39m ServiceContext\u001b[38;5;241m.\u001b[39mfrom_defaults(embed_model\u001b[38;5;241m=\u001b[39membed_model, llm\u001b[38;5;241m=\u001b[39m\u001b[38;5;28;01mNone\u001b[39;00m)\n\u001b[0;32m      5\u001b[0m math_nodes \u001b[38;5;241m=\u001b[39m [TextNode(id_\u001b[38;5;241m=\u001b[39mexample\u001b[38;5;241m.\u001b[39mtexts[\u001b[38;5;241m0\u001b[39m], text\u001b[38;5;241m=\u001b[39mexample\u001b[38;5;241m.\u001b[39mtexts[\u001b[38;5;241m0\u001b[39m]) \u001b[38;5;28;01mfor\u001b[39;00m example \u001b[38;5;129;01min\u001b[39;00m math_data] \n\u001b[1;32m----> 7\u001b[0m nodes \u001b[38;5;241m=\u001b[39m [TextNode(id_\u001b[38;5;241m=\u001b[39mid_, text\u001b[38;5;241m=\u001b[39mtext) \u001b[38;5;28;01mfor\u001b[39;00m id_, text \u001b[38;5;129;01min\u001b[39;00m \u001b[43mcorpus\u001b[49m\u001b[38;5;241m.\u001b[39mitems()] \n\u001b[0;32m      8\u001b[0m index \u001b[38;5;241m=\u001b[39m VectorStoreIndex(\n\u001b[0;32m      9\u001b[0m     nodes, \n\u001b[0;32m     10\u001b[0m     service_context\u001b[38;5;241m=\u001b[39mservice_context, \n\u001b[0;32m     11\u001b[0m     show_progress\u001b[38;5;241m=\u001b[39m\u001b[38;5;28;01mTrue\u001b[39;00m\n\u001b[0;32m     12\u001b[0m )\n\u001b[0;32m     14\u001b[0m retriever \u001b[38;5;241m=\u001b[39m index\u001b[38;5;241m.\u001b[39mas_retriever(similarity_top_k\u001b[38;5;241m=\u001b[39mtop_k)\n",
      "\u001b[1;31mNameError\u001b[0m: name 'corpus' is not defined"
     ]
    }
   ],
   "source": [
    "# https://github.com/run-llama/llama_index/issues/10051\n",
    "top_k = 5\n",
    "service_context = ServiceContext.from_defaults(embed_model=embed_model, llm=None)\n",
    "\n",
    "math_nodes = [TextNode(id_=example.texts[0], text=example.texts[0]) for example in math_data] \n",
    "\n",
    "nodes = [TextNode(id_=id_, text=text) for id_, text in corpus.items()] \n",
    "index = VectorStoreIndex(\n",
    "    nodes, \n",
    "    service_context=service_context, \n",
    "    show_progress=True\n",
    ")\n",
    "\n",
    "retriever = index.as_retriever(similarity_top_k=top_k)"
   ]
  },
  {
   "cell_type": "code",
   "execution_count": null,
   "id": "273ee10f-d5e2-4c37-9943-041f7d70ee1e",
   "metadata": {},
   "outputs": [],
   "source": [
    "# index.storage_context.persist(persist_dir=\"./storage\")"
   ]
  },
  {
   "cell_type": "code",
   "execution_count": null,
   "id": "78ed1c0f-0b06-449e-8700-19b8292b87d9",
   "metadata": {},
   "outputs": [],
   "source": []
  },
  {
   "cell_type": "code",
   "execution_count": 7,
   "id": "b8ff003d-d523-420f-8763-9b580450f06f",
   "metadata": {},
   "outputs": [
    {
     "name": "stdout",
     "output_type": "stream",
     "text": [
      "Djjas, who is also a member of the National Council of the Muslim Brotherhood, said the\n"
     ]
    }
   ],
   "source": [
    "# Wrap seq 2 seq model into custom llm model\n",
    "\n",
    "from typing import Optional, List, Mapping, Any\n",
    "from transformers import GPT2Tokenizer, GPT2LMHeadModel\n",
    "\n",
    "\n",
    "from llama_index.llms import (\n",
    "    CustomLLM,\n",
    "    CompletionResponse,\n",
    "    CompletionResponseGen,\n",
    "    LLMMetadata,\n",
    ")\n",
    "from llama_index.llms.base import llm_completion_callback\n",
    "\n",
    "class OurLLM(CustomLLM):\n",
    "    context_window: int = 3900\n",
    "    num_output: int = 256\n",
    "    model_name: str = \"custom\"\n",
    "    dummy_response: str = \"My response\"\n",
    "    tokenizer: GPT2Tokenizer = None\n",
    "    model: GPT2LMHeadModel = None\n",
    "\n",
    "    def __init__(self, tokenizer, model):\n",
    "        super(CustomLLM, self).__init__()\n",
    "        \n",
    "        self.tokenizer = tokenizer\n",
    "        self.model = model\n",
    "\n",
    "    @property\n",
    "    def metadata(self) -> LLMMetadata:\n",
    "        \"\"\"Get LLM metadata.\"\"\"\n",
    "        return LLMMetadata(\n",
    "            context_window=self.context_window,\n",
    "            num_output=self.num_output,\n",
    "            model_name=self.model_name,\n",
    "        )\n",
    "\n",
    "    @llm_completion_callback()\n",
    "    def complete(self, prompt: str, **kwargs: Any) -> CompletionResponse:\n",
    "        input_ids = tokenizer.encode(prompt, add_special_tokens=True, return_tensors='pt')\n",
    "        output = model.generate(input_ids)\n",
    "\n",
    "        return tokenizer.decode(output[0])\n",
    "\n",
    "    @llm_completion_callback()\n",
    "    def stream_complete(\n",
    "        self, prompt: str, **kwargs: Any\n",
    "    ) -> CompletionResponseGen:\n",
    "        response = \"\"\n",
    "        for token in self.dummy_response:\n",
    "            response += token\n",
    "            yield CompletionResponse(text=response, delta=token)\n",
    "\n",
    "\n",
    "output_dir = \"./finetuned_llm\"\n",
    "\n",
    "tokenizer = GPT2Tokenizer.from_pretrained(output_dir)\n",
    "llm_model = GPT2LMHeadModel.from_pretrained(output_dir) \n",
    "input_ids = tokenizer.encode(\"Djjas\", add_special_tokens=True, return_tensors='pt')\n",
    "output = llm_model.generate(input_ids)\n",
    "\n",
    "print(tokenizer.decode(output[0]))\n",
    "\n",
    "\n",
    "# define our LLM\n",
    "llm = OurLLM(tokenizer, llm_model)"
   ]
  },
  {
   "cell_type": "code",
   "execution_count": 95,
   "id": "a89dc3ef-da97-4f74-9177-340dd648c028",
   "metadata": {},
   "outputs": [],
   "source": [
    "from llama_index import load_index_from_storage\n",
    "from llama_index.storage.storage_context import StorageContext\n",
    "from llama_index import ServiceContext\n",
    "\n",
    "\n",
    "service_context = ServiceContext.from_defaults(\n",
    "    llm=llm,\n",
    "    embed_model=embed_model,\n",
    ")\n",
    "\n",
    "loaded_index = load_index_from_storage(storage_context=StorageContext.from_defaults(persist_dir=\"./storage\"), service_context=service_context)"
   ]
  },
  {
   "cell_type": "markdown",
   "id": "6a00db1e-cf93-4371-a12b-dd9bacc57c9a",
   "metadata": {},
   "source": [
    " \n"
   ]
  },
  {
   "cell_type": "markdown",
   "id": "0ca4e57f-c085-4474-8588-52010923b8b2",
   "metadata": {},
   "source": [
    "loaded_index = load_index_from_disk(StorageContext.from_defaults(persist_dir=\"./storage\"))"
   ]
  },
  {
   "cell_type": "code",
   "execution_count": 96,
   "id": "8779b48f-dcb7-4a73-9fcb-ce4de57bc672",
   "metadata": {},
   "outputs": [],
   "source": [
    "retriever = loaded_index.as_retriever(similarity_top_k=top_k)"
   ]
  },
  {
   "cell_type": "code",
   "execution_count": 98,
   "id": "29ee61c6-8e83-4689-b42f-30b06d2ae9ec",
   "metadata": {},
   "outputs": [
    {
     "data": {
      "text/plain": [
       "[NodeWithScore(node=TextNode(id_='79f581ef-80dd-4d04-9e8e-ec128f95e6b1', embedding=None, metadata={}, excluded_embed_metadata_keys=[], excluded_llm_metadata_keys=[], relationships={}, hash='190905e6b7e3d6391293c392785096ddd4a66fc5553b42668936fbd624a55c83', text='Beingclassified  as  a  transportation  provider  would  result  in  a  VAT  (20%)  on  Gross  Bookings  or  on  the  service  fee  that  we  charge  Drivers,  both  retroactively  andprospectively.HMRC is considering a number of factors including our contractual Driver, Rider and intercompany arrangements, and HMRC is also expected toconsider the U.K. Supreme Court’s February 19, 2021 ruling on Drivers’ worker classification, in determining whether we should be classified as a provider oftransportation services.HMRC may update its assessment, which we would then review and discuss with HMRC.If we do not reach a satisfactory resolution afterexhausting HMRC’s review and appeals process, we would still be able to argue our case anew in the U.K. Tax Court, which may require the up-front payment tothe Tax Court (“pay-to-play”) of any final HMRC assessment to be held in escrow.We continue to believe that we have meritorious defense in these proceedings.Our  estimated  liability  is  inherently  subjective  due  to  the  complexity  and  uncertainty  of  these  matters  and  the  judicial  processes  in  certain  jurisdictions,therefore, the final outcome could be different from the estimated liability recorded.129', start_char_idx=None, end_char_idx=None, text_template='{metadata_str}\\n\\n{content}', metadata_template='{key}: {value}', metadata_seperator='\\n'), score=0.559511308389014),\n",
       " NodeWithScore(node=TextNode(id_='27550cab-b06c-488d-8b96-6a831bf556d8', embedding=None, metadata={}, excluded_embed_metadata_keys=[], excluded_llm_metadata_keys=[], relationships={}, hash='1ee9df287136c5441cb9f9348c81a1b0342f4314330956841b8aafebc800decf', text='If platform users engage in, or are subject to, criminal, violent, inappropriate, or dangerous activity that results in major safety incidents, our ability to attractand retain Drivers, consumers, merchants, shippers, and carriers may be harmed, which could have an adverse impact on our reputation, business, financialcondition, and operating results.We are not able to control or predict the actions of platform users and third parties, either during their use of our platform or otherwise, and we may be unableto protect or provide a safe environment for Drivers and consumers as a result of certain actions by Drivers, consumers, merchants, carriers, and third parties.Suchactions  may  result  in  injuries,  property  damage,  or  loss  of  life  for  consumers  and  third  parties,  or  business  interruption,  brand  and  reputational  damage,  orsignificant liabilities for us.Although we administer certain qualification processes for users of our platform, including background checks on Drivers throughthird-party service providers, these qualification processes and background checks may not expose all potentially relevant information and are limited in certainjurisdictions  according  to  national  and  local  laws,  and  our  third-party  service  providers  may  fail  to  conduct  such  background  checks  adequately  or  discloseinformation  that  could  be  relevant  to  a  determination  of  eligibility.Further,  the  qualification  and  background  check  standards  for  Couriers  are  generally  lessextensive than those conducted for Mobility Drivers.In addition, we do not independently test Drivers’ driving skills.Consequently, we expect to continue toreceive complaints from riders and other consumers, as well as actual or threatened legal action against us related to Driver conduct.We have also faced civillitigation alleging, among other things, inadequate Driver qualification processes and background checks, and general misrepresentations regarding the safety ofour platform.If Drivers or carriers, or individuals impersonating Drivers or carriers, engage in criminal activity, misconduct, or inappropriate conduct or use our platform asa conduit for criminal activity, consumers and shippers may not consider our products and offerings safe, and we may receive negative press coverage as a result ofour business relationship with such Driver or carrier, which would adversely impact our brand, reputation, and business.There have been numerous incidents andallegations worldwide of Drivers, or individuals impersonating Drivers, sexually assaulting, abusing, kidnapping and/or fatally injuring consumers, or otherwiseengaging in criminal activity while using our platform or claiming to use our platform.Furthermore, if consumers engage in criminal activity or misconduct whileusing our platform,  Drivers  and merchants  may be unwilling  to continue using our platform.In addition,  certain  regions  where we operate  have high rates  ofviolent crime, which has impacted Drivers and consumers in those regions.For example, in Latin America, there have been numerous and increasing reports ofDrivers and consumers being victimized by violent crime, such as armed robbery, violent assault, and rape, while taking or providing a trip on our platform.Ifother criminal, inappropriate, or other negative incidents occur due to the conduct of platform users or third parties, our ability to attract platform users may beharmed, and our business and financial results could be adversely affected.Public reporting or disclosure of reported safety information, including information about safety incidents reportedly occurring on or related to our platform,whether generated by us or third parties such as media or regulators, may adversely impact our business and financial results.Further,  we  may  be  subject  to  claims  of  significant  liability  based  on  traffic  accidents,  deaths,  injuries,  or  other  incidents  that  are  caused  by  Drivers,consumers, or third parties while using our platform, or even when Drivers, consumers, or third parties are not actively using our platform.On a smaller scale, wemay face litigation related to claims by Drivers for the actions of consumers or third parties.Furthermore, operating a motor vehicle is inherently dangerous.Inaddition, the growth of our Delivery offering has led to an increase in Couriers on two wheel vehicles such as scooters and bicycles, who are more vulnerable roadusers and face a more severe level of injury in the event of a collision than that faced while driving in a vehicle.For example, urban hazards such as unpaved oruneven roadways increase the risk and severity of potential injuries.In addition, Couriers, in particular those on two wheel vehicles predominantly in metropolitanareas, need to share, navigate, and at times contend with narrow and heavily congested roads occupied by cars, buses and light rail, especially during “rush” hours,all of which heighten the potential risk of injuries or death.', start_char_idx=None, end_char_idx=None, text_template='{metadata_str}\\n\\n{content}', metadata_template='{key}: {value}', metadata_seperator='\\n'), score=0.5594438972863129),\n",
       " NodeWithScore(node=TextNode(id_='f256d121-73dc-458c-b932-ccdd1d8f58c2', embedding=None, metadata={}, excluded_embed_metadata_keys=[], excluded_llm_metadata_keys=[], relationships={}, hash='e75926c0a3ec8cc34b30eb80591c2567939d440cb046a98d6b360fb38fdb4abf', text='In the event we experience an ownership change within the meaning of Section 382 of the Internal Revenue Code (“IRC”), our ability to utilize net operatinglosses, tax credits and other tax attributes may be limited. The most recent analysis of our historical ownership changes was completed through December 31,2021. Based on the analysis, we do not anticipate a current limitation on the tax attributes.The following table reflects changes in gross unrecognized tax benefits (in millions):Year Ended December 31,201920202021Unrecognized tax benefits at beginning of year$394 $1,797 $2,293 Gross increases - current year tax positions1,566 353 239 Gross increases - prior year tax positions16 191 134 Gross decreases - prior year tax positions(36)(48)(9)Gross decreases - settlements with tax authorities(143)— — Unrecognized tax benefits at end of year$1,797 $2,293 $2,657 As of December 31, 2021, approximately $204 million of unrecognized tax benefits, if recognized, would impact the effective tax rate. The remaining $2.5billion of the unrecognized tax benefits would not impact the effective tax rate due to the valuation allowance against certain deferred tax assets.We  recognize  accrued  interest  and  penalties  related  to  unrecognized  tax  benefits  within  the  provision  for  income  taxes  in  the  consolidated  statements  ofoperations. The amount of interest and penalties accrued as of December 31, 2020 and 2021 was $12 million and $18 million, respectively.Although the timing of the resolution and/or closure of audits is highly uncertain, it is reasonably possible that the balance of gross unrecognized tax benefitscould significantly change in the next 12 months. Given the number of years remaining subject to examination and the number of matters being examined, we areunable to estimate the full range of possible adjustments to the balance of gross unrecognized tax benefits. Any changes to unrecognized tax benefits recorded as ofDecember 31, 2021 that are reasonably possible to occur within the next 12 months are not expected to be material.We are subject to taxation in the U.S. and various state and foreign jurisdictions. We are also under various state and other foreign income tax examinations.We believe that adequate amounts have been reserved in these jurisdictions. To the extent we have tax attribute carryforwards, the tax years in which the attributewas generated may still be adjusted upon examination by the federal, state or foreign tax authorities to the extent utilized in a future period.As of December 31, 2021, the open tax years for our major tax jurisdictions are as follows:JurisdictionTax YearsU.S. Federal2011 - 2021U.S. States2004 - 2021Brazil2016 - 2021Netherlands2018 - 2021Australia2017 - 2021As of December 31, 2021, the amount of accumulated foreign earnings of certain foreign subsidiaries that we intend to indefinitely reinvest is not material.Note 13 – Net Income (Loss) Per ShareBasic net income (loss) per share is computed by dividing net income (loss) by the weighted-average number of common shares outstanding for the periodspresented.  Diluted  net  income  (loss)  per  share  is  computed  by  giving  effect  to  all  potential  weighted  average  dilutive  common  stock.  The  dilutive  effect  ofoutstanding awards and convertible securities is reflected in diluted net income (loss) per share by application of the treasury stock method or if-converted method,as applicable.We  take  into  account  the  effect  on  consolidated  net  income  (loss)  per  share  of  dilutive  securities  of  entities  in  which  we  hold  equity  interests  that  areaccounted for using the equity method.123', start_char_idx=None, end_char_idx=None, text_template='{metadata_str}\\n\\n{content}', metadata_template='{key}: {value}', metadata_seperator='\\n'), score=0.5508016721057023),\n",
       " NodeWithScore(node=TextNode(id_='9b962fc5-1c25-4717-abbf-4df63f02a920', embedding=None, metadata={}, excluded_embed_metadata_keys=[], excluded_llm_metadata_keys=[], relationships={}, hash='3107c261f1d16632ec895e4b85ce36871c8a3c765783ac8a09cb38001409ba14', text=\"Payment for our services is generally due within 30 to 60 days upon completion of our performance obligation.Principal vs.Agent ConsiderationsJudgment is required in determining whether we are the principal or agent in transactions with Shippers.For each contract entered into with a Shipper wherewe are responsible for identifying and directing independent freight carriers to transport the Shipper's goods, we control the service before it is transferred to theShipper.We are primarily responsible for fulfilling the contract with the Shipper, including having discretion in selecting a qualified independent freight carrierthat meets the Shipper's specifications.We also have pricing discretion and negotiate separately the price(s) charged to Shippers and amounts paid to carriers.Accordingly, we are the principal in these transactions.In certain arrangements, we do not control the service provided to customers and recognize the relatedrevenue on a net basis.Contracts where we do not control the service before it is transferred to the Shipper are not material for the years ended December 31, 2019,2020 and 2021.89\", start_char_idx=None, end_char_idx=None, text_template='{metadata_str}\\n\\n{content}', metadata_template='{key}: {value}', metadata_seperator='\\n'), score=0.5481524898869209),\n",
       " NodeWithScore(node=TextNode(id_='d193a4ce-e62b-415c-a2e4-91dbc65ba284', embedding=None, metadata={}, excluded_embed_metadata_keys=[], excluded_llm_metadata_keys=[], relationships={}, hash='90d0f311c339ca09b9d3d1bd8a784009b528cb0954aeadfc55cb4f6508945590', text='UNITED STATESSECURITIES AND EXCHANGE COMMISSIONWashington, D.C. 20549____________________________________________ FORM 10-K____________________________________________ (Mark One)☒ ANNUAL REPORT PURSUANT TO SECTION 13 OR 15(d) OF THE SECURITIES EXCHANGE ACT OF 1934For the fiscal year ended December 31, 2021OR☐ TRANSITION REPORT PURSUANT TO SECTION 13 OR 15(d) OF THE SECURITIES EXCHANGE ACT OF 1934For the transition period from_____ to _____            Commission File Number: 001-38902____________________________________________ UBER TECHNOLOGIES, INC.(Exact name of registrant as specified in its charter)____________________________________________ Delaware45-2647441(State or other jurisdiction of incorporation or organization)(I.R.S. Employer Identification No.)1515 3rd StreetSan Francisco, California 94158(Address of principal executive offices, including zip code)(415) 612-8582(Registrant’s telephone number, including area code) ____________________________________________Securities registered pursuant to Section 12(b) of the Act:Title of each classTrading Symbol(s)Name of each exchange on which registeredCommon Stock, par value $0.00001 per shareUBERNew York Stock ExchangeSecurities registered pursuant to Section 12(g) of the Act: NoneIndicate by check mark whether the registrant is a well-known seasoned issuer, as defined in Rule 405 of the Securities Act. Yes  ☒ No ☐Indicate by check mark whether the registrant is not required to file reports pursuant to Section 13 or Section 15(d) of the Act. Yes  ☐ No  ☒Indicate by check mark whether the registrant (1) has filed all reports required to be filed by Section 13 or 15(d) of the Securities Exchange Act of 1934 during thepreceding 12 months (or for such shorter period that the registrant was required to file such reports), and (2) has been subject to such filing requirements for thepast 90 days. Yes  ☒ No ☐Indicate by check mark whether the registrant has submitted electronically every Interactive Data File required to be submitted pursuant to Rule 405 of RegulationS-T (§232.405 of this chapter) during the preceding 12 months (or for such shorter period that the registrant was required to submit such files). Yes  ☒ No ☐Indicate by check mark whether the registrant is a large accelerated filer, an accelerated filer, a non-accelerated filer, a smaller reporting company, or an emerginggrowth company. See the definitions of “large accelerated filer,” “accelerated filer,” “smaller reporting company,” and “emerging growth company” in Rule 12b-2of the Exchange Act.', start_char_idx=None, end_char_idx=None, text_template='{metadata_str}\\n\\n{content}', metadata_template='{key}: {value}', metadata_seperator='\\n'), score=0.5435779299583331)]"
      ]
     },
     "execution_count": 98,
     "metadata": {},
     "output_type": "execute_result"
    }
   ],
   "source": [
    "nodes"
   ]
  },
  {
   "cell_type": "code",
   "execution_count": null,
   "id": "687ec53c-453c-4933-a160-4cfaa288460a",
   "metadata": {},
   "outputs": [],
   "source": []
  }
 ],
 "metadata": {
  "kernelspec": {
   "display_name": "Python 3 (ipykernel)",
   "language": "python",
   "name": "python3"
  },
  "language_info": {
   "codemirror_mode": {
    "name": "ipython",
    "version": 3
   },
   "file_extension": ".py",
   "mimetype": "text/x-python",
   "name": "python",
   "nbconvert_exporter": "python",
   "pygments_lexer": "ipython3",
   "version": "3.11.7"
  }
 },
 "nbformat": 4,
 "nbformat_minor": 5
}
